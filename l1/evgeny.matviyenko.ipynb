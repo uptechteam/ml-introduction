{
 "cells": [
  {
   "cell_type": "code",
   "execution_count": 9,
   "metadata": {
    "scrolled": true
   },
   "outputs": [
    {
     "data": {
      "image/png": "[encoded data removed]",
      "text/plain": [
       "<matplotlib.figure.Figure at 0x10601df60>"
      ]
     },
     "metadata": {},
     "output_type": "display_data"
    }
   ],
   "source": [
    "import numpy as np\n",
    "import matplotlib.pyplot as plt\n",
    "\n",
    "data = np.genfromtxt(\"../l1_data.csv\", delimiter=\",\")\n",
    "plt.plot(data[:, 0], data[:, 1], 'bx')\n",
    "plt.show()"
   ]
  },
  {
   "cell_type": "code",
   "execution_count": 53,
   "metadata": {
    "collapsed": true
   },
   "outputs": [],
   "source": [
    "def split(data):\n",
    "    examples_count, columns_count = data.shape\n",
    "    return data[:, 0:columns_count - 1], data[:, columns_count - 1]\n",
    "\n",
    "def add_bias(data):\n",
    "    examples_count, columns_count = data.shape\n",
    "    bias = np.ones((examples_count, columns_count + 1))\n",
    "    bias[:, 1:] = data\n",
    "    return bias\n",
    "\n",
    "def hypothesis(thetas, features):\n",
    "    return np.dot(thetas, features.T)\n",
    "\n",
    "def train(data, learning_rate=0.001, iterations=20):\n",
    "    features, y = split(data)\n",
    "    bias_features = add_bias(features)\n",
    "    examples_count, features_count = bias_features.shape\n",
    "    costs = np.zeros((1, iterations))\n",
    "    thetas = np.zeros((1, features_count))\n",
    "    for i in range(iterations):\n",
    "        costs[0, iterations - i - 1] = (1 / (2 * examples_count)) * np.sum((hypothesis(thetas, bias_features) - y) ** 2, axis=1)\n",
    "        thetas = thetas - (learning_rate / examples_count) * np.dot(hypothesis(thetas, bias_features) - y, bias_features)\n",
    "    return thetas, costs"
   ]
  },
  {
   "cell_type": "code",
   "execution_count": 54,
   "metadata": {
    "collapsed": true
   },
   "outputs": [],
   "source": [
    "thetas, costs = train(data)"
   ]
  },
  {
   "cell_type": "code",
   "execution_count": 55,
   "metadata": {
    "collapsed": true
   },
   "outputs": [],
   "source": [
    "def plot(costs):\n",
    "    plt.plot(costs)\n",
    "    plt.show()"
   ]
  },
  {
   "cell_type": "code",
   "execution_count": 56,
   "metadata": {},
   "outputs": [
    {
     "data": {
      "image/png": "[encoded data removed]",
      "text/plain": [
       "<matplotlib.figure.Figure at 0x10872e828>"
      ]
     },
     "metadata": {},
     "output_type": "display_data"
    },
    {
     "name": "stdout",
     "output_type": "stream",
     "text": [
      "[[  -86.72941846 -4412.96223248]]\n"
     ]
    }
   ],
   "source": [
    "plot(costs.T)\n",
    "print(thetas)"
   ]
  },
  {
   "cell_type": "code",
   "execution_count": null,
   "metadata": {
    "collapsed": true
   },
   "outputs": [],
   "source": []
  },
  {
   "cell_type": "code",
   "execution_count": null,
   "metadata": {
    "collapsed": true
   },
   "outputs": [],
   "source": []
  }
 ],
 "metadata": {
  "kernelspec": {
   "display_name": "Python 3",
   "language": "python",
   "name": "python3"
  },
  "language_info": {
   "codemirror_mode": {
    "name": "ipython",
    "version": 3
   },
   "file_extension": ".py",
   "mimetype": "text/x-python",
   "name": "python",
   "nbconvert_exporter": "python",
   "pygments_lexer": "ipython3",
   "version": "3.6.2"
  }
 },
 "nbformat": 4,
 "nbformat_minor": 2
}
