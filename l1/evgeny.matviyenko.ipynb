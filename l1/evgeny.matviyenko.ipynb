{
 "cells": [
  {
   "cell_type": "code",
   "execution_count": 21,
   "metadata": {
    "scrolled": true
   },
   "outputs": [
    {
     "data": {
      "image/png": "[encoded data removed]",
      "text/plain": [
       "<matplotlib.figure.Figure at 0x1122eef98>"
      ]
     },
     "metadata": {},
     "output_type": "display_data"
    }
   ],
   "source": [
    "import numpy as np\n",
    "import matplotlib.pyplot as plt\n",
    "\n",
    "data = np.genfromtxt(\"../l1_data.csv\", delimiter=\",\")\n",
    "plt.plot(data[:, 0], data[:, 1], 'bx')\n",
    "plt.show()"
   ]
  },
  {
   "cell_type": "code",
   "execution_count": 137,
   "metadata": {},
   "outputs": [],
   "source": [
    "def split(data):\n",
    "    examples_count, columns_count = data.shape\n",
    "    return data[:, 0:columns_count - 1], data[:, columns_count - 1]\n",
    "\n",
    "def add_bias(data):\n",
    "    examples_count, columns_count = data.shape\n",
    "    bias = np.ones((examples_count, columns_count + 1))\n",
    "    bias[:, 1:] = data\n",
    "    return bias\n",
    "\n",
    "def hypothesis(thetas, features):\n",
    "    return np.dot(thetas, features.T)\n",
    "\n",
    "def train(data, learning_rate=0.001, iterations=100):\n",
    "    features, y = split(data)\n",
    "    bias_features = add_bias(features)\n",
    "    examples_count, features_count = bias_features.shape\n",
    "    costs = np.zeros((1, iterations))\n",
    "    thetas = np.zeros((1, features_count))\n",
    "    for i in range(iterations):\n",
    "        costs[0, i] = (1 / (2 * examples_count)) * np.sum((hypothesis(thetas, bias_features) - y) ** 2, axis=1)\n",
    "        thetas = thetas - (learning_rate / examples_count) * np.dot(hypothesis(thetas, bias_features) - y, bias_features)\n",
    "    return thetas, costs"
   ]
  },
  {
   "cell_type": "code",
   "execution_count": 142,
   "metadata": {},
   "outputs": [],
   "source": [
    "thetas, costs = train(data)"
   ]
  },
  {
   "cell_type": "code",
   "execution_count": 147,
   "metadata": {
    "collapsed": true
   },
   "outputs": [],
   "source": [
    "def plot_data(data, predicted, costs):\n",
    "    x, y = data\n",
    "    fig, (g1, g2) = plt.subplots(nrows=2, ncols=1)\n",
    "    g1.plot(x, y, 'bo', markersize=2)\n",
    "    g1.plot(x, predicted, 'ro', markersize=2)\n",
    "    g1.axis([x.min() - x.mean() / 10, x.max() + x.mean()/ 10, y.min() - y.mean()/ 10, y.max() + y.mean()/ 10])\n",
    "    g2.plot(costs)\n",
    "    plt.show()\n",
    "\n",
    "    \n",
    "def predict(theta, x):\n",
    "    m, features = x.shape\n",
    "    x_bias = np.column_stack((np.ones(m), x))\n",
    "    y = np.sum(np.transpose(theta) * x_bias, axis=1)\n",
    "    return y\n",
    "\n",
    "def plot(costs):\n",
    "    plt.plot(costs)\n",
    "    plt.show()"
   ]
  },
  {
   "cell_type": "code",
   "execution_count": 149,
   "metadata": {},
   "outputs": [
    {
     "data": {
      "image/png": "[encoded data removed]",
      "text/plain": [
       "<matplotlib.figure.Figure at 0x11251c908>"
      ]
     },
     "metadata": {},
     "output_type": "display_data"
    },
    {
     "name": "stdout",
     "output_type": "stream",
     "text": [
      "[[  2.78255392e+03   6.12446183e+03   1.35629995e+04   3.01199614e+04\n",
      "    6.69730364e+04   1.49001922e+05   3.31584735e+05   7.37984056e+05\n",
      "    1.64256213e+06   3.65600418e+06   8.13759515e+06   1.81128798e+07\n",
      "    4.03162233e+07   8.97372153e+07   1.99740218e+08   4.44588815e+08\n",
      "    9.89581534e+08   2.20264572e+09   4.90272715e+09   1.09126645e+10\n",
      "    2.42897968e+10   5.40650939e+10   1.20340010e+11   2.67857075e+11\n",
      "    5.96205809e+11   1.32705610e+12   2.95380869e+12   6.57469249e+12\n",
      "    1.46341845e+13   3.25732886e+13   7.25027847e+13   1.61379278e+14\n",
      "    3.59203739e+14   7.99528463e+14   1.77961890e+15   3.96113907e+15\n",
      "    8.81684429e+15   1.96248457e+16   4.36816800e+16   9.72282375e+16\n",
      "    2.16414071e+17   4.81702139e+17   1.07218976e+18   2.38651812e+18\n",
      "    5.31199695e+18   1.18236318e+19   2.63174604e+19   5.85783398e+19\n",
      "    1.30385753e+20   2.90217248e+20   6.45975878e+20   1.43783609e+21\n",
      "    3.20038674e+21   7.12353468e+21   1.58558169e+22   3.52924415e+22\n",
      "    7.85551722e+22   1.74850897e+23   3.89189349e+23   8.66271500e+23\n",
      "    1.92817793e+24   4.29180704e+24   9.55285683e+24   2.12630886e+25\n",
      "    4.73281392e+25   1.05344656e+26   2.34479884e+26   5.21913670e+26\n",
      "    1.16169402e+27   2.58573988e+27   5.75543183e+27   1.28106450e+28\n",
      "    2.85143894e+28   6.34683424e+28   1.41270095e+29   3.14444004e+29\n",
      "    6.99900652e+29   1.55786378e+30   3.46754862e+30   7.71819311e+30\n",
      "    1.71794288e+31   3.82385840e+31   8.51128008e+31   1.89447101e+32\n",
      "    4.21678097e+32   9.38586113e+32   2.08913837e+33   4.65007851e+33\n",
      "    1.03503102e+34   2.30380887e+34   5.12789977e+34   1.14138618e+35\n",
      "    2.54053796e+35   5.65481980e+35   1.25866991e+36   2.80159227e+36\n",
      "    6.23588377e+36   1.38800520e+37   3.08947136e+37   6.87665527e+37]]\n"
     ]
    }
   ],
   "source": [
    "plot(costs)\n",
    "print(costs)"
   ]
  },
  {
   "cell_type": "code",
   "execution_count": null,
   "metadata": {
    "collapsed": true
   },
   "outputs": [],
   "source": []
  }
 ],
 "metadata": {
  "kernelspec": {
   "display_name": "Python 3",
   "language": "python",
   "name": "python3"
  },
  "language_info": {
   "codemirror_mode": {
    "name": "ipython",
    "version": 3
   },
   "file_extension": ".py",
   "mimetype": "text/x-python",
   "name": "python",
   "nbconvert_exporter": "python",
   "pygments_lexer": "ipython3",
   "version": "3.6.2"
  }
 },
 "nbformat": 4,
 "nbformat_minor": 2
}
