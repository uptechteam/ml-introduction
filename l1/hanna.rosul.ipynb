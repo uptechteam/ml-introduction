{
 "cells": [
  {
   "cell_type": "code",
   "execution_count": 1,
   "metadata": {
    "collapsed": true
   },
   "outputs": [],
   "source": [
    "import numpy as np\n",
    "import matplotlib.pyplot as plot"
   ]
  },
  {
   "cell_type": "code",
   "execution_count": 2,
   "metadata": {},
   "outputs": [
    {
     "data": {
      "image/png": "[encoded data removed]",
      "text/plain": [
       "<matplotlib.figure.Figure at 0x7fcafd53b358>"
      ]
     },
     "metadata": {},
     "output_type": "display_data"
    }
   ],
   "source": [
    "data = np.genfromtxt(\"../l1_data.csv\", delimiter=\",\")\n",
    "plot.plot(data[:, 0], data[:, 1], 'bx')\n",
    "plot.show()"
   ]
  },
  {
   "cell_type": "code",
   "execution_count": 3,
   "metadata": {
    "collapsed": true
   },
   "outputs": [],
   "source": [
    "def split_data(data):\n",
    "    _, features = data.shape\n",
    "    return (data[:, :-1], data[:, -1:])\n",
    "\n",
    "independent, dependent = split_data(data)"
   ]
  },
  {
   "cell_type": "code",
   "execution_count": 4,
   "metadata": {
    "collapsed": true
   },
   "outputs": [],
   "source": [
    "def hypothesis(theta, indep_row):\n",
    "    return int(np.dot(theta.T, indep_row))\n",
    "\n",
    "def prediction_fault(theta, indep_row, dep_row):\n",
    "    return hypothesis(theta, indep_row) - int(dep_row)\n",
    "    \n",
    "def cost(theta, indep, dep, n):\n",
    "    acc_square_diff = 0\n",
    "    for i in range(n):\n",
    "        acc_square_diff += prediction_fault(theta, indep[i, :], dep[i, :])**2\n",
    "    return (1 / (2 * n)) * acc_square_diff\n",
    "    \n",
    "def grad_desc(theta, indep, dep, n, lr):\n",
    "    acc_dot = 0\n",
    "    for i in range(n):\n",
    "        diff = prediction_fault(theta, indep[i, :], dep[i, :])\n",
    "        acc_dot += np.dot(diff, indep[i, :])\n",
    "    return theta - lr * (1/n) * acc_dot"
   ]
  },
  {
   "cell_type": "code",
   "execution_count": 5,
   "metadata": {
    "collapsed": true
   },
   "outputs": [],
   "source": [
    "def theta_costs(indep, dep, lr=0.0001, iter=15):\n",
    "    n, features = indep.shape\n",
    "    theta = np.zeros(features + 1)\n",
    "    bias_indep = np.column_stack((np.ones(n), indep))\n",
    "    costs = []\n",
    "    for i in range(iter):\n",
    "        costs.append(cost(theta, bias_indep, dep, n))\n",
    "        theta = grad_desc(theta, bias_indep, dep, n, lr)\n",
    "    return theta, costs"
   ]
  },
  {
   "cell_type": "code",
   "execution_count": 6,
   "metadata": {
    "collapsed": true
   },
   "outputs": [],
   "source": [
    "theta, costs = theta_costs(independent, dependent)"
   ]
  },
  {
   "cell_type": "code",
   "execution_count": 7,
   "metadata": {
    "collapsed": true
   },
   "outputs": [],
   "source": [
    "def plot_data(data, predicted, costs):\n",
    "    x, y = data\n",
    "    fig, (g1, g2) = plot.subplots(nrows=2, ncols=1)\n",
    "    g1.plot(x, y, 'bo', markersize=2)\n",
    "    g1.plot(x, predicted, 'ro', markersize=2)\n",
    "    g1.axis([x.min() - x.mean() / 10, x.max() + x.mean()/ 10, y.min() - y.mean()/ 10, y.max() + y.mean()/ 10])\n",
    "    g2.plot(costs)\n",
    "    plot.show()\n",
    "\n",
    "def predict(theta, indep):\n",
    "    n, features = indep.shape\n",
    "    bias_indep = np.column_stack((np.ones(n), indep))\n",
    "    return np.sum(np.transpose(theta) * bias_indep, axis=1)"
   ]
  },
  {
   "cell_type": "code",
   "execution_count": 8,
   "metadata": {},
   "outputs": [
    {
     "data": {
      "image/png": "[encoded data removed]",
      "text/plain": [
       "<matplotlib.figure.Figure at 0x7fcaf6363c18>"
      ]
     },
     "metadata": {},
     "output_type": "display_data"
    }
   ],
   "source": [
    "plot_data((independent, dependent), predict(theta, independent), costs)"
   ]
  },
  {
   "cell_type": "code",
   "execution_count": 33,
   "metadata": {
    "collapsed": true
   },
   "outputs": [],
   "source": [
    "class LinReg:\n",
    "    def __init__(self, data):\n",
    "        self.data = data\n",
    "        self.independent, self.dependent = data[:, :-1], data[:, -1:]\n",
    "        self.n, self.features = self.independent.shape\n",
    "        self.bias_indep = np.column_stack((np.ones(self.n), self.independent))\n",
    "    \n",
    "    @staticmethod\n",
    "    def hypothesis(theta, indep_row):\n",
    "        return int(np.dot(theta.T, indep_row))\n",
    "\n",
    "    @staticmethod\n",
    "    def prediction_fault(theta, indep_row, dep_row):\n",
    "        return LinReg.hypothesis(theta, indep_row) - int(dep_row)\n",
    "\n",
    "    def cost(self, theta):\n",
    "        acc_square_diff = 0\n",
    "        for i in range(self.n):\n",
    "            acc_square_diff += LinReg.prediction_fault(theta, self.bias_indep[i, :], self.dependent[i, :])**2\n",
    "        return (1 / (2 * self.n)) * acc_square_diff\n",
    "\n",
    "    def grad_desc(self, theta, lr):\n",
    "        acc_dot = 0\n",
    "        for i in range(self.n):\n",
    "            diff = LinReg.prediction_fault(theta, self.bias_indep[i, :], self.dependent[i, :])\n",
    "            acc_dot += np.dot(diff, self.bias_indep[i, :])\n",
    "        return theta - lr * (1/self.n) * acc_dot\n",
    "    \n",
    "    def theta_costs(self, lr=0.0001, iter=15):\n",
    "        costs = []\n",
    "        theta = np.zeros(self.features + 1)\n",
    "        for i in range(iter):\n",
    "            costs.append(self.cost(theta))\n",
    "            theta = self.grad_desc(theta, lr)\n",
    "        return theta, costs\n",
    "    \n",
    "    def plot_data(self, theta, costs):\n",
    "        predicted = self.predict(theta)\n",
    "        x, y = (self.independent, self.dependent)\n",
    "        fig, (g1, g2) = plot.subplots(nrows=2, ncols=1)\n",
    "        g1.plot(x, y, 'bo', markersize=2)\n",
    "        g1.plot(x, predicted, 'ro', markersize=2)\n",
    "        g1.axis([x.min() - x.mean() / 10, x.max() + x.mean()/ 10, y.min() - y.mean()/ 10, y.max() + y.mean()/ 10])\n",
    "        g2.plot(costs)\n",
    "        plot.show()\n",
    "\n",
    "    def predict(self, theta):\n",
    "        return np.sum(np.transpose(theta) * self.bias_indep, axis=1)"
   ]
  },
  {
   "cell_type": "code",
   "execution_count": 34,
   "metadata": {},
   "outputs": [
    {
     "data": {
      "image/png": "[encoded data removed]",
      "text/plain": [
       "<matplotlib.figure.Figure at 0x7fcaf62d7240>"
      ]
     },
     "metadata": {},
     "output_type": "display_data"
    }
   ],
   "source": [
    "r = LinReg(data)\n",
    "theta, costs = r.theta_costs()\n",
    "r.plot_data(theta, costs)"
   ]
  },
  {
   "cell_type": "code",
   "execution_count": null,
   "metadata": {
    "collapsed": true
   },
   "outputs": [],
   "source": []
  },
  {
   "cell_type": "code",
   "execution_count": null,
   "metadata": {
    "collapsed": true
   },
   "outputs": [],
   "source": []
  }
 ],
 "metadata": {
  "kernelspec": {
   "display_name": "Python 3",
   "language": "python",
   "name": "python3"
  },
  "language_info": {
   "codemirror_mode": {
    "name": "ipython",
    "version": 3
   },
   "file_extension": ".py",
   "mimetype": "text/x-python",
   "name": "python",
   "nbconvert_exporter": "python",
   "pygments_lexer": "ipython3",
   "version": "3.6.2"
  }
 },
 "nbformat": 4,
 "nbformat_minor": 2
}
