{
 "cells": [
  {
   "cell_type": "markdown",
   "metadata": {},
   "source": [
    "### Gradient descent (missed part of 1st lesson)"
   ]
  },
  {
   "cell_type": "markdown",
   "metadata": {},
   "source": [
    "Gradient descent is a first-order iterative optimization algorithm for finding the minimum of a function. To find a local minimum of a function using gradient descent, one takes steps proportional to the negative of the gradient (or of the approximate gradient) of the function at the current point. "
   ]
  },
  {
   "cell_type": "markdown",
   "metadata": {},
   "source": [
    "##### Keypoint: Optimization(maximization/minimization) for our target function"
   ]
  },
  {
   "cell_type": "markdown",
   "metadata": {},
   "source": [
    "<img src=\"https://wikimedia.org/api/rest_v1/media/math/render/svg/0154a26cc6ac60465f8eb3d00d2f2dfa6899da2a\"/>"
   ]
  },
  {
   "cell_type": "markdown",
   "metadata": {},
   "source": [
    "$\\nabla$ (nabla) is derivative"
   ]
  },
  {
   "cell_type": "markdown",
   "metadata": {},
   "source": [
    "### How optimization looks like? Let's plot it and look"
   ]
  },
  {
   "cell_type": "markdown",
   "metadata": {},
   "source": [
    "<img src=\"https://sebastianraschka.com/images/faq/closed-form-vs-gd/ball.png\"/ height=600 width=600>"
   ]
  },
  {
   "cell_type": "markdown",
   "metadata": {},
   "source": [
    "### Another picture "
   ]
  },
  {
   "cell_type": "markdown",
   "metadata": {},
   "source": [
    "<img src=\"https://upload.wikimedia.org/wikipedia/commons/thumb/f/ff/Gradient_descent.svg/955px-Gradient_descent.svg.png\" height=400 width=400/>"
   ]
  },
  {
   "cell_type": "markdown",
   "metadata": {},
   "source": [
    "### Logistic regression"
   ]
  },
  {
   "cell_type": "markdown",
   "metadata": {},
   "source": [
    "Logistic regression is named for the function used at the core of the method, the logistic function.\n",
    "Logistic regression uses an equation as the representation, very much like linear regression. Input values (X) are combined linearly using weights or coefficient values to predict an output value (y).\n",
    "A key difference from linear regression is that the output value being modeled is a binary value (0 or 1) rather than a numeric value.\n",
    "\n",
    "##### Keypoint: Same stuff as Linear regression, but we will use different hypothesis and loss functions, because we will be predicting not continuous values, but labels"
   ]
  },
  {
   "cell_type": "markdown",
   "metadata": {},
   "source": [
    "<img src=\"https://cdn-images-1.medium.com/max/455/1*snTXFElFuQLSFDnvZKJ6IA.png\"/>"
   ]
  },
  {
   "cell_type": "markdown",
   "metadata": {},
   "source": [
    "#### And that's ok"
   ]
  },
  {
   "cell_type": "markdown",
   "metadata": {},
   "source": [
    "An explanation of logistic regression can begin with an explanation of the standard logistic function. The logistic function is useful because it can take any real input  t, whereas the output always takes values between zero and one and hence is interpretable as a probability. The logistic function is defined as follows:\n",
    "<img src=\"https://wikimedia.org/api/rest_v1/media/math/render/svg/5e648e1dd38ef843d57777cd34c67465bbca694f\"/>\n",
    "Plot the function\n",
    "<img src=\"https://upload.wikimedia.org/wikipedia/commons/thumb/8/88/Logistic-curve.svg/640px-Logistic-curve.svg.png\"/ height=400 width=400>\n",
    "\n",
    "Our hypothesis function will be the same, but we have to wrap the result into logistic funciton:\n",
    "\n",
    "**Old function (for linear regression)**:  $h_{\\theta} = \\theta^{T} x$\n",
    "\n",
    "**New funciton (for logistic regression)**: $h_{\\theta} = g(\\theta^{T} x$)\n",
    "\n",
    "##### Let's define python function for that"
   ]
  },
  {
   "cell_type": "code",
   "execution_count": 5,
   "metadata": {
    "collapsed": true
   },
   "outputs": [],
   "source": [
    "def h(theta, x):\n",
    "    a = 1 / (1 + np.exp(-np.dot(theta, x.T)))\n",
    "    if a is np.array:\n",
    "        #Prevent 0's and inf under log function\n",
    "        a[np.where(a == 0)] = 10 ** -9\n",
    "        a[np.where(a == 1)] = 0.999999\n",
    "    return a"
   ]
  },
  {
   "cell_type": "markdown",
   "metadata": {},
   "source": [
    "##### Now we have $\\theta$, but what about $J(\\theta)$, out cost function.\n",
    "\n",
    "Our loss funciton is called **log loss (for binary classification)**.\n",
    "\n",
    "<img src=\"https://i.stack.imgur.com/sMNpx.jpg\" height=400 width=400/>\n",
    "\n",
    "To minimize it, we will use ... gradient descent!\n",
    "\n",
    "\n",
    "Let's simplify it and write as one equation + compute the derivative.\n",
    "\n",
    "<img src=\"https://datascienceplus.com/wp-content/uploads/2017/02/4-490x233.png\" height=650 width=650/>\n",
    "\n",
    "\n",
    "\n",
    "\n"
   ]
  },
  {
   "cell_type": "markdown",
   "metadata": {},
   "source": [
    "#### Now we are ready to define train function for our logistic regression!"
   ]
  },
  {
   "cell_type": "code",
   "execution_count": 7,
   "metadata": {
    "collapsed": true
   },
   "outputs": [],
   "source": [
    "def train(x, y, lr=0.01, iter=10000, rr=0):\n",
    "    m, features = x.shape\n",
    "    theta = np.zeros(features + 1, dtype=np.float128)\n",
    "    # adding bias\n",
    "    x_bias = np.column_stack((np.ones(m), x))\n",
    "    costs = []\n",
    "    for i in range(iter):\n",
    "        cost = lr * np.sum(np.dot(-y, np.log(h(theta, x_bias))) - \\\n",
    "                           np.dot((1 - y), np.log(1 - h(theta, x_bias)))) + \\\n",
    "               (rr / (2 * m)) * np.sum(theta[1:] ** 2)\n",
    "        costs = [*costs, cost]\n",
    "        theta_update = (lr * np.sum((h(theta, x_bias) - y) * x_bias.T, axis=1))\n",
    "        theta_regularization = (rr / m) * theta\n",
    "        theta_regularization[0] = 0\n",
    "        theta = theta - (theta_update + theta_regularization)\n",
    "    return theta, costs"
   ]
  },
  {
   "cell_type": "markdown",
   "metadata": {},
   "source": [
    "#### And this won't work :( \n",
    "\n",
    "<img src=\"http://i.imgur.com/kJlYN0w.jpg\" height=400 width=400/>\n",
    "\n",
    "<img src=\"https://i.imgflip.com/1xh4st.jpg\" height=400 width=400/>"
   ]
  },
  {
   "cell_type": "markdown",
   "metadata": {},
   "source": [
    "#### What the hell and why we need it\n",
    "\n",
    "* We can speed up gradient descent by having each of our input values in roughly the same range. \n",
    "\n",
    "* Overflow/underflow (not really the case, but helps)\n",
    "\n",
    "* Different ranges of features can affect prediction models (as example SVM)\n",
    "\n",
    "<img src=\"https://qph.ec.quoracdn.net/main-qimg-0d692d88876aeb26b1f1a578d1c5a94e\" width=400 height=400/>"
   ]
  },
  {
   "cell_type": "code",
   "execution_count": 9,
   "metadata": {
    "collapsed": true
   },
   "outputs": [],
   "source": [
    "def normalize(x):\n",
    "    m, features = x.shape\n",
    "    for i in range(features):\n",
    "        x[0:, i] = (x[0:, i] - x[0:, i].min()) / (x[0:, i].max() - x[0:, i].min())\n",
    "\n",
    "    return x"
   ]
  },
  {
   "cell_type": "markdown",
   "metadata": {},
   "source": [
    "#### Ok. Now we have everything to start doing classification "
   ]
  },
  {
   "cell_type": "code",
   "execution_count": 11,
   "metadata": {
    "collapsed": true
   },
   "outputs": [],
   "source": [
    "import numpy as np\n",
    "import matplotlib.pyplot as plt\n",
    "#Reading the data from file.\n",
    "data = np.genfromtxt(\"l2_data.txt\", delimiter=\",\", dtype=np.float128)"
   ]
  },
  {
   "cell_type": "code",
   "execution_count": 13,
   "metadata": {
    "collapsed": true
   },
   "outputs": [],
   "source": [
    "#Split data function + normalization for X (we don't need to normalize Y, because it's our labels)\n",
    "def split_data(data):\n",
    "    examples, features = data.shape\n",
    "    # features - 1 because last column is value we are trying to predict\n",
    "    x, y = (normalize(data[0:, :features - 1]), data[0:, features - 1])\n",
    "    return x, y\n",
    "\n",
    "x, y = split_data(data)"
   ]
  },
  {
   "cell_type": "code",
   "execution_count": 17,
   "metadata": {},
   "outputs": [
    {
     "name": "stdout",
     "output_type": "stream",
     "text": [
      "First example: [ 0.065427839  0.69465488] Label: 0.0\n"
     ]
    }
   ],
   "source": [
    "print(\"First example:\", x[0], \"Label:\", y[0])"
   ]
  },
  {
   "cell_type": "code",
   "execution_count": 18,
   "metadata": {
    "collapsed": true
   },
   "outputs": [],
   "source": [
    "#Train the regression!\n",
    "theta, costs = train(x, y)"
   ]
  },
  {
   "cell_type": "code",
   "execution_count": 22,
   "metadata": {
    "collapsed": true
   },
   "outputs": [],
   "source": [
    "#Predict function for logistic regression\n",
    "def predict(theta, x):\n",
    "    m, features = x.shape\n",
    "    x_bias = np.column_stack((np.ones(m), x))\n",
    "    y = h(theta, x_bias)\n",
    "    return y\n",
    "predicted = predict(theta, x)"
   ]
  },
  {
   "cell_type": "code",
   "execution_count": 23,
   "metadata": {
    "collapsed": true
   },
   "outputs": [],
   "source": [
    "#Define confidense for labeling. We will take 0.5 (if x > 0.5 then y = 1, if x < 0.5 then y = 0)\n",
    "conf = 0.5\n",
    "accuracy = (((predicted > conf).astype(int)) == y).sum() / len(y)"
   ]
  },
  {
   "cell_type": "code",
   "execution_count": 25,
   "metadata": {},
   "outputs": [
    {
     "name": "stdout",
     "output_type": "stream",
     "text": [
      "Accuracy: 0.89\n"
     ]
    }
   ],
   "source": [
    "print(\"Accuracy:\", accuracy)"
   ]
  },
  {
   "cell_type": "code",
   "execution_count": 63,
   "metadata": {
    "collapsed": true
   },
   "outputs": [],
   "source": [
    "#Plotting stuff\n",
    "def get_bound(theta):\n",
    "    pts = []\n",
    "    for i in np.arange(0.0, 1.0, 0.005):\n",
    "        for j in np.arange(0.0, 1.0, 0.005):\n",
    "            a = h(theta, np.array([1, i, j]))\n",
    "            if 0.49 < a < 0.51:\n",
    "                pts = [*pts, (i, j)]\n",
    "    points = np.array(pts)\n",
    "    if len(points) == 0:\n",
    "        return np.array([[1], [1]])\n",
    "    return points[0:, 0], points[0:, 1]\n",
    "\n",
    "\n",
    "def plot_data(data, predicted, costs, bound):\n",
    "    x, y = data\n",
    "    xb, yb = bound\n",
    "    fig, (g1, g2, g3) = plt.subplots(nrows=3, ncols=1, figsize=(10, 10))\n",
    "    g1.plot(x[np.where(y == 1)][0:, 0], x[np.where(y == 1)][0:, 1], 'o', markersize=3)\n",
    "    g1.plot(x[np.where(y == 0)][0:, 0], x[np.where(y == 0)][0:, 1], 'x', markersize=3)\n",
    "    g1.plot(xb, yb, 'o', markersize=1)\n",
    "\n",
    "    g2.plot(x[np.where(predicted > 0.5)][0:, 0], x[np.where(predicted > 0.5)][0:, 1], 'o', markersize=3)\n",
    "    g2.plot(x[np.where(predicted <= 0.5)][0:, 0], x[np.where(predicted <= 0.5)][0:, 1], 'x', markersize=3)\n",
    "    g2.plot(xb, yb, 'o', markersize=1)\n",
    "\n",
    "    g1.axis([x.min() - x.mean(), x.max() + x.mean(), x.min() - x.mean(), x.max() + x.mean()])\n",
    "    g2.axis([x.min() - x.mean(), x.max() + x.mean(), x.min() - x.mean(), x.max() + x.mean()])\n",
    "\n",
    "    g3.plot(costs)\n",
    "    plt.show()"
   ]
  },
  {
   "cell_type": "code",
   "execution_count": 64,
   "metadata": {},
   "outputs": [
    {
     "data": {
      "image/png": "[encoded data removed]",
      "text/plain": [
       "<matplotlib.figure.Figure at 0x10dfe26a0>"
      ]
     },
     "metadata": {},
     "output_type": "display_data"
    }
   ],
   "source": [
    "%matplotlib inline\n",
    "#Let's plot the result!\n",
    "bound = get_bound(theta)\n",
    "plot_data((x, y), predicted, costs, bound)"
   ]
  },
  {
   "cell_type": "markdown",
   "metadata": {},
   "source": [
    "### Ok, but lines are \n",
    "<img src=\"https://s-media-cache-ak0.pinimg.com/originals/34/93/dc/3493dc19e179b65c34408a88c19140d8.png\" height=400 width=400/>\n",
    "\n",
    "### Let's do some more interesting!"
   ]
  },
  {
   "cell_type": "code",
   "execution_count": 60,
   "metadata": {
    "collapsed": true
   },
   "outputs": [],
   "source": [
    "#Reading data2 (file is normalized itself)\n",
    "data = np.genfromtxt(\"l2_data_2.txt\", delimiter=\",\", dtype=np.float128)"
   ]
  },
  {
   "cell_type": "code",
   "execution_count": 65,
   "metadata": {
    "collapsed": true
   },
   "outputs": [],
   "source": [
    "def plot_data_raw(data):\n",
    "    plt.plot(data[np.where(data[:,2] == 1)][:,0], data[np.where(data[:,2] == 1)][:,1], 'o')\n",
    "    plt.plot(data[np.where(data[:,2] == 0)][:,0], data[np.where(data[:,2] == 0)][:,1], 'o')\n",
    "    plt.show()"
   ]
  },
  {
   "cell_type": "code",
   "execution_count": 66,
   "metadata": {},
   "outputs": [
    {
     "data": {
      "image/png": "[encoded data removed]",
      "text/plain": [
       "<matplotlib.figure.Figure at 0x10d696198>"
      ]
     },
     "metadata": {},
     "output_type": "display_data"
    }
   ],
   "source": [
    "plot_data_raw(data)"
   ]
  },
  {
   "cell_type": "markdown",
   "metadata": {},
   "source": [
    "Let's redefine some functions to work with this data. We will use feature enrichment (syntetic features) for our data!\n",
    "\n",
    "What we will do is for x from input we will add it's power from 2 to some value(14 in this example)\n",
    "\n",
    "So we will have something like this:\n",
    "\n",
    "Initital: $(x_1, x_2)$\n",
    "\n",
    "Resulting: $(x_1, x_1^2, x_1^3, x_1^4, x_1^5 ..., x_2, x_2^2, x_2^3, x_2^4, x_2^5 ...)$"
   ]
  },
  {
   "cell_type": "code",
   "execution_count": 67,
   "metadata": {
    "collapsed": true
   },
   "outputs": [],
   "source": [
    "def enrich_features(x, power=14):\n",
    "    m, features = x.shape\n",
    "    for p in range(2, power + 1):\n",
    "        for f in range(features):\n",
    "            x = np.append(x, np.power(x[0:, f], p).reshape(m, 1), axis=1)\n",
    "    return x\n",
    "\n",
    "\n",
    "def normalize(x):\n",
    "    m, features = x.shape\n",
    "    for i in range(features):\n",
    "        x[0:, i] = (x[0:, i] - x[0:, i].min()) / (x[0:, i].max() - x[0:, i].min())\n",
    "\n",
    "    return x\n",
    "\n",
    "\n",
    "def split_data(data):\n",
    "    examples, features = data.shape\n",
    "    # features - 1 because last column is value we are trying to predict\n",
    "    x, y = (enrich_features(normalize(data[0:, :features - 1])), data[0:, features - 1])\n",
    "    return x, y"
   ]
  },
  {
   "cell_type": "code",
   "execution_count": 69,
   "metadata": {
    "collapsed": true
   },
   "outputs": [],
   "source": [
    "x, y = split_data(data)"
   ]
  },
  {
   "cell_type": "code",
   "execution_count": 70,
   "metadata": {
    "collapsed": true
   },
   "outputs": [],
   "source": [
    "#Train the regression!\n",
    "theta, costs = train(x, y)"
   ]
  },
  {
   "cell_type": "code",
   "execution_count": 71,
   "metadata": {
    "collapsed": true
   },
   "outputs": [],
   "source": [
    "predicted = predict(theta, x)\n",
    "accuracy = (((predicted > conf).astype(int)) == y).sum() / len(y)"
   ]
  },
  {
   "cell_type": "code",
   "execution_count": 74,
   "metadata": {},
   "outputs": [
    {
     "name": "stdout",
     "output_type": "stream",
     "text": [
      "Accuracy: 0.78813559322\n"
     ]
    }
   ],
   "source": [
    "print(\"Accuracy:\", accuracy)"
   ]
  },
  {
   "cell_type": "code",
   "execution_count": 75,
   "metadata": {
    "collapsed": true
   },
   "outputs": [],
   "source": [
    "#Redefine plotting \n",
    "def get_bound(theta):\n",
    "    pts = []\n",
    "    for i in np.arange(0.0, 1.0, 0.005):\n",
    "        for j in np.arange(0.0, 1.0, 0.005):\n",
    "            a = h(theta, np.column_stack((np.ones(1), enrich_features(np.array([i, j]).reshape(1, 2)))))\n",
    "            if 0.49 < a < 0.51:\n",
    "                pts = [*pts, (i, j)]\n",
    "    points = np.array(pts)\n",
    "    if len(points) == 0:\n",
    "        return np.array([[1], [1]])\n",
    "    return points[0:, 0], points[0:, 1]\n"
   ]
  },
  {
   "cell_type": "code",
   "execution_count": 77,
   "metadata": {},
   "outputs": [
    {
     "data": {
      "image/png": "[encoded data removed]",
      "text/plain": [
       "<matplotlib.figure.Figure at 0x10d791438>"
      ]
     },
     "metadata": {},
     "output_type": "display_data"
    }
   ],
   "source": [
    "#Do the plotting!\n",
    "bound = get_bound(theta)\n",
    "plot_data((x, y), predicted, costs, bound)"
   ]
  },
  {
   "cell_type": "markdown",
   "metadata": {},
   "source": [
    "<img src=\"https://media.giphy.com/media/nKG86WRlokFfW/giphy-facebook_s.jpg\"/>"
   ]
  },
  {
   "cell_type": "code",
   "execution_count": null,
   "metadata": {
    "collapsed": true
   },
   "outputs": [],
   "source": []
  }
 ],
 "metadata": {
  "kernelspec": {
   "display_name": "Python 3",
   "language": "python",
   "name": "python3"
  },
  "language_info": {
   "codemirror_mode": {
    "name": "ipython",
    "version": 3
   },
   "file_extension": ".py",
   "mimetype": "text/x-python",
   "name": "python",
   "nbconvert_exporter": "python",
   "pygments_lexer": "ipython3",
   "version": "3.6.2"
  }
 },
 "nbformat": 4,
 "nbformat_minor": 2
}
